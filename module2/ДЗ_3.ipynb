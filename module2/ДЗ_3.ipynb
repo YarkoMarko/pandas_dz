{
  "nbformat": 4,
  "nbformat_minor": 0,
  "metadata": {
    "colab": {
      "provenance": [],
      "include_colab_link": true
    },
    "kernelspec": {
      "name": "python3",
      "display_name": "Python 3"
    },
    "language_info": {
      "name": "python"
    }
  },
  "cells": [
    {
      "cell_type": "markdown",
      "metadata": {
        "id": "view-in-github",
        "colab_type": "text"
      },
      "source": [
        "<a href=\"https://colab.research.google.com/github/YarkoMarko/pandas_dz/blob/main/module2/%D0%94%D0%97_3.ipynb\" target=\"_parent\"><img src=\"https://colab.research.google.com/assets/colab-badge.svg\" alt=\"Open In Colab\"/></a>"
      ]
    },
    {
      "cell_type": "markdown",
      "source": [
        "Імпортуйте модуль pandas"
      ],
      "metadata": {
        "id": "JcEy7-4Sou1q"
      }
    },
    {
      "cell_type": "code",
      "execution_count": 148,
      "metadata": {
        "id": "bBPN6MQ4omtx"
      },
      "outputs": [],
      "source": [
        "import pandas as pd\n",
        "import numpy as np"
      ]
    },
    {
      "cell_type": "markdown",
      "source": [
        "# Інформація про дані\n",
        "Зібрано дані продажу техніки в різних магазинах.\n",
        "* OrderDate -- дата замовлення\n",
        "* Region    -- регіон де розміщено магазин\n",
        "* Manager   -- ім'я менеджера\n",
        "* SalesMan  -- ім'я продавця\n",
        "* Item      -- тип товару\n",
        "* Units     -- кількість купленого товару\n",
        "* Unit_price -- ціна за штуку\n",
        "* Sale_amt   -- загальна вартість покупки"
      ],
      "metadata": {
        "id": "cR2fUNbco1Fh"
      }
    },
    {
      "cell_type": "code",
      "source": [
        "df = pd.read_csv(\"https://raw.githubusercontent.com/HalyshAnton/IT-Step-Pyton-AI/main/module2/data/sales_data.csv\", index_col=\"Unnamed: 0\")\n",
        "df.head()"
      ],
      "metadata": {
        "id": "uvpR4oiIqU7t",
        "colab": {
          "base_uri": "https://localhost:8080/",
          "height": 206
        },
        "outputId": "9b49a002-8101-4196-ea87-665e32d1ac38"
      },
      "execution_count": 141,
      "outputs": [
        {
          "output_type": "execute_result",
          "data": {
            "text/plain": [
              "    OrderDate   Region  Manager   SalesMan          Item  Units  Unit_price  \\\n",
              "0  2018-01-06     East   Martha  Alexander    Television   95.0      1198.0   \n",
              "1  2018-01-23  Central  Hermann     Shelli  Home Theater   50.0       500.0   \n",
              "2  2018-02-09  Central  Hermann       Luis    Television   36.0      1198.0   \n",
              "3  2018-02-26  Central  Timothy      David    Cell Phone   27.0       225.0   \n",
              "4  2018-03-15     West  Timothy    Stephen    Television   56.0      1198.0   \n",
              "\n",
              "   Sale_amt  \n",
              "0  113810.0  \n",
              "1   25000.0  \n",
              "2   43128.0  \n",
              "3    6075.0  \n",
              "4   67088.0  "
            ],
            "text/html": [
              "\n",
              "  <div id=\"df-0fce6730-e89e-4c99-a20a-b8df5e7628b6\" class=\"colab-df-container\">\n",
              "    <div>\n",
              "<style scoped>\n",
              "    .dataframe tbody tr th:only-of-type {\n",
              "        vertical-align: middle;\n",
              "    }\n",
              "\n",
              "    .dataframe tbody tr th {\n",
              "        vertical-align: top;\n",
              "    }\n",
              "\n",
              "    .dataframe thead th {\n",
              "        text-align: right;\n",
              "    }\n",
              "</style>\n",
              "<table border=\"1\" class=\"dataframe\">\n",
              "  <thead>\n",
              "    <tr style=\"text-align: right;\">\n",
              "      <th></th>\n",
              "      <th>OrderDate</th>\n",
              "      <th>Region</th>\n",
              "      <th>Manager</th>\n",
              "      <th>SalesMan</th>\n",
              "      <th>Item</th>\n",
              "      <th>Units</th>\n",
              "      <th>Unit_price</th>\n",
              "      <th>Sale_amt</th>\n",
              "    </tr>\n",
              "  </thead>\n",
              "  <tbody>\n",
              "    <tr>\n",
              "      <th>0</th>\n",
              "      <td>2018-01-06</td>\n",
              "      <td>East</td>\n",
              "      <td>Martha</td>\n",
              "      <td>Alexander</td>\n",
              "      <td>Television</td>\n",
              "      <td>95.0</td>\n",
              "      <td>1198.0</td>\n",
              "      <td>113810.0</td>\n",
              "    </tr>\n",
              "    <tr>\n",
              "      <th>1</th>\n",
              "      <td>2018-01-23</td>\n",
              "      <td>Central</td>\n",
              "      <td>Hermann</td>\n",
              "      <td>Shelli</td>\n",
              "      <td>Home Theater</td>\n",
              "      <td>50.0</td>\n",
              "      <td>500.0</td>\n",
              "      <td>25000.0</td>\n",
              "    </tr>\n",
              "    <tr>\n",
              "      <th>2</th>\n",
              "      <td>2018-02-09</td>\n",
              "      <td>Central</td>\n",
              "      <td>Hermann</td>\n",
              "      <td>Luis</td>\n",
              "      <td>Television</td>\n",
              "      <td>36.0</td>\n",
              "      <td>1198.0</td>\n",
              "      <td>43128.0</td>\n",
              "    </tr>\n",
              "    <tr>\n",
              "      <th>3</th>\n",
              "      <td>2018-02-26</td>\n",
              "      <td>Central</td>\n",
              "      <td>Timothy</td>\n",
              "      <td>David</td>\n",
              "      <td>Cell Phone</td>\n",
              "      <td>27.0</td>\n",
              "      <td>225.0</td>\n",
              "      <td>6075.0</td>\n",
              "    </tr>\n",
              "    <tr>\n",
              "      <th>4</th>\n",
              "      <td>2018-03-15</td>\n",
              "      <td>West</td>\n",
              "      <td>Timothy</td>\n",
              "      <td>Stephen</td>\n",
              "      <td>Television</td>\n",
              "      <td>56.0</td>\n",
              "      <td>1198.0</td>\n",
              "      <td>67088.0</td>\n",
              "    </tr>\n",
              "  </tbody>\n",
              "</table>\n",
              "</div>\n",
              "    <div class=\"colab-df-buttons\">\n",
              "\n",
              "  <div class=\"colab-df-container\">\n",
              "    <button class=\"colab-df-convert\" onclick=\"convertToInteractive('df-0fce6730-e89e-4c99-a20a-b8df5e7628b6')\"\n",
              "            title=\"Convert this dataframe to an interactive table.\"\n",
              "            style=\"display:none;\">\n",
              "\n",
              "  <svg xmlns=\"http://www.w3.org/2000/svg\" height=\"24px\" viewBox=\"0 -960 960 960\">\n",
              "    <path d=\"M120-120v-720h720v720H120Zm60-500h600v-160H180v160Zm220 220h160v-160H400v160Zm0 220h160v-160H400v160ZM180-400h160v-160H180v160Zm440 0h160v-160H620v160ZM180-180h160v-160H180v160Zm440 0h160v-160H620v160Z\"/>\n",
              "  </svg>\n",
              "    </button>\n",
              "\n",
              "  <style>\n",
              "    .colab-df-container {\n",
              "      display:flex;\n",
              "      gap: 12px;\n",
              "    }\n",
              "\n",
              "    .colab-df-convert {\n",
              "      background-color: #E8F0FE;\n",
              "      border: none;\n",
              "      border-radius: 50%;\n",
              "      cursor: pointer;\n",
              "      display: none;\n",
              "      fill: #1967D2;\n",
              "      height: 32px;\n",
              "      padding: 0 0 0 0;\n",
              "      width: 32px;\n",
              "    }\n",
              "\n",
              "    .colab-df-convert:hover {\n",
              "      background-color: #E2EBFA;\n",
              "      box-shadow: 0px 1px 2px rgba(60, 64, 67, 0.3), 0px 1px 3px 1px rgba(60, 64, 67, 0.15);\n",
              "      fill: #174EA6;\n",
              "    }\n",
              "\n",
              "    .colab-df-buttons div {\n",
              "      margin-bottom: 4px;\n",
              "    }\n",
              "\n",
              "    [theme=dark] .colab-df-convert {\n",
              "      background-color: #3B4455;\n",
              "      fill: #D2E3FC;\n",
              "    }\n",
              "\n",
              "    [theme=dark] .colab-df-convert:hover {\n",
              "      background-color: #434B5C;\n",
              "      box-shadow: 0px 1px 3px 1px rgba(0, 0, 0, 0.15);\n",
              "      filter: drop-shadow(0px 1px 2px rgba(0, 0, 0, 0.3));\n",
              "      fill: #FFFFFF;\n",
              "    }\n",
              "  </style>\n",
              "\n",
              "    <script>\n",
              "      const buttonEl =\n",
              "        document.querySelector('#df-0fce6730-e89e-4c99-a20a-b8df5e7628b6 button.colab-df-convert');\n",
              "      buttonEl.style.display =\n",
              "        google.colab.kernel.accessAllowed ? 'block' : 'none';\n",
              "\n",
              "      async function convertToInteractive(key) {\n",
              "        const element = document.querySelector('#df-0fce6730-e89e-4c99-a20a-b8df5e7628b6');\n",
              "        const dataTable =\n",
              "          await google.colab.kernel.invokeFunction('convertToInteractive',\n",
              "                                                    [key], {});\n",
              "        if (!dataTable) return;\n",
              "\n",
              "        const docLinkHtml = 'Like what you see? Visit the ' +\n",
              "          '<a target=\"_blank\" href=https://colab.research.google.com/notebooks/data_table.ipynb>data table notebook</a>'\n",
              "          + ' to learn more about interactive tables.';\n",
              "        element.innerHTML = '';\n",
              "        dataTable['output_type'] = 'display_data';\n",
              "        await google.colab.output.renderOutput(dataTable, element);\n",
              "        const docLink = document.createElement('div');\n",
              "        docLink.innerHTML = docLinkHtml;\n",
              "        element.appendChild(docLink);\n",
              "      }\n",
              "    </script>\n",
              "  </div>\n",
              "\n",
              "\n",
              "<div id=\"df-331afdce-7f6d-4f3e-bcd9-ec93835f117a\">\n",
              "  <button class=\"colab-df-quickchart\" onclick=\"quickchart('df-331afdce-7f6d-4f3e-bcd9-ec93835f117a')\"\n",
              "            title=\"Suggest charts\"\n",
              "            style=\"display:none;\">\n",
              "\n",
              "<svg xmlns=\"http://www.w3.org/2000/svg\" height=\"24px\"viewBox=\"0 0 24 24\"\n",
              "     width=\"24px\">\n",
              "    <g>\n",
              "        <path d=\"M19 3H5c-1.1 0-2 .9-2 2v14c0 1.1.9 2 2 2h14c1.1 0 2-.9 2-2V5c0-1.1-.9-2-2-2zM9 17H7v-7h2v7zm4 0h-2V7h2v10zm4 0h-2v-4h2v4z\"/>\n",
              "    </g>\n",
              "</svg>\n",
              "  </button>\n",
              "\n",
              "<style>\n",
              "  .colab-df-quickchart {\n",
              "      --bg-color: #E8F0FE;\n",
              "      --fill-color: #1967D2;\n",
              "      --hover-bg-color: #E2EBFA;\n",
              "      --hover-fill-color: #174EA6;\n",
              "      --disabled-fill-color: #AAA;\n",
              "      --disabled-bg-color: #DDD;\n",
              "  }\n",
              "\n",
              "  [theme=dark] .colab-df-quickchart {\n",
              "      --bg-color: #3B4455;\n",
              "      --fill-color: #D2E3FC;\n",
              "      --hover-bg-color: #434B5C;\n",
              "      --hover-fill-color: #FFFFFF;\n",
              "      --disabled-bg-color: #3B4455;\n",
              "      --disabled-fill-color: #666;\n",
              "  }\n",
              "\n",
              "  .colab-df-quickchart {\n",
              "    background-color: var(--bg-color);\n",
              "    border: none;\n",
              "    border-radius: 50%;\n",
              "    cursor: pointer;\n",
              "    display: none;\n",
              "    fill: var(--fill-color);\n",
              "    height: 32px;\n",
              "    padding: 0;\n",
              "    width: 32px;\n",
              "  }\n",
              "\n",
              "  .colab-df-quickchart:hover {\n",
              "    background-color: var(--hover-bg-color);\n",
              "    box-shadow: 0 1px 2px rgba(60, 64, 67, 0.3), 0 1px 3px 1px rgba(60, 64, 67, 0.15);\n",
              "    fill: var(--button-hover-fill-color);\n",
              "  }\n",
              "\n",
              "  .colab-df-quickchart-complete:disabled,\n",
              "  .colab-df-quickchart-complete:disabled:hover {\n",
              "    background-color: var(--disabled-bg-color);\n",
              "    fill: var(--disabled-fill-color);\n",
              "    box-shadow: none;\n",
              "  }\n",
              "\n",
              "  .colab-df-spinner {\n",
              "    border: 2px solid var(--fill-color);\n",
              "    border-color: transparent;\n",
              "    border-bottom-color: var(--fill-color);\n",
              "    animation:\n",
              "      spin 1s steps(1) infinite;\n",
              "  }\n",
              "\n",
              "  @keyframes spin {\n",
              "    0% {\n",
              "      border-color: transparent;\n",
              "      border-bottom-color: var(--fill-color);\n",
              "      border-left-color: var(--fill-color);\n",
              "    }\n",
              "    20% {\n",
              "      border-color: transparent;\n",
              "      border-left-color: var(--fill-color);\n",
              "      border-top-color: var(--fill-color);\n",
              "    }\n",
              "    30% {\n",
              "      border-color: transparent;\n",
              "      border-left-color: var(--fill-color);\n",
              "      border-top-color: var(--fill-color);\n",
              "      border-right-color: var(--fill-color);\n",
              "    }\n",
              "    40% {\n",
              "      border-color: transparent;\n",
              "      border-right-color: var(--fill-color);\n",
              "      border-top-color: var(--fill-color);\n",
              "    }\n",
              "    60% {\n",
              "      border-color: transparent;\n",
              "      border-right-color: var(--fill-color);\n",
              "    }\n",
              "    80% {\n",
              "      border-color: transparent;\n",
              "      border-right-color: var(--fill-color);\n",
              "      border-bottom-color: var(--fill-color);\n",
              "    }\n",
              "    90% {\n",
              "      border-color: transparent;\n",
              "      border-bottom-color: var(--fill-color);\n",
              "    }\n",
              "  }\n",
              "</style>\n",
              "\n",
              "  <script>\n",
              "    async function quickchart(key) {\n",
              "      const quickchartButtonEl =\n",
              "        document.querySelector('#' + key + ' button');\n",
              "      quickchartButtonEl.disabled = true;  // To prevent multiple clicks.\n",
              "      quickchartButtonEl.classList.add('colab-df-spinner');\n",
              "      try {\n",
              "        const charts = await google.colab.kernel.invokeFunction(\n",
              "            'suggestCharts', [key], {});\n",
              "      } catch (error) {\n",
              "        console.error('Error during call to suggestCharts:', error);\n",
              "      }\n",
              "      quickchartButtonEl.classList.remove('colab-df-spinner');\n",
              "      quickchartButtonEl.classList.add('colab-df-quickchart-complete');\n",
              "    }\n",
              "    (() => {\n",
              "      let quickchartButtonEl =\n",
              "        document.querySelector('#df-331afdce-7f6d-4f3e-bcd9-ec93835f117a button');\n",
              "      quickchartButtonEl.style.display =\n",
              "        google.colab.kernel.accessAllowed ? 'block' : 'none';\n",
              "    })();\n",
              "  </script>\n",
              "</div>\n",
              "    </div>\n",
              "  </div>\n"
            ],
            "application/vnd.google.colaboratory.intrinsic+json": {
              "type": "dataframe",
              "variable_name": "df",
              "repr_error": "'str' object has no attribute 'empty'"
            }
          },
          "metadata": {},
          "execution_count": 141
        }
      ]
    },
    {
      "cell_type": "markdown",
      "source": [
        "# Завдання 1\n",
        "\n",
        "Вивести загальну інформацію про таблицю: кількість рядків та стовпців, назви стовпців та їхній тип даних, в яких стовпцях є пропущені значення"
      ],
      "metadata": {
        "id": "SYfF3l1Ao0SC"
      }
    },
    {
      "cell_type": "code",
      "source": [
        "print(f\"Rows: {df.shape[0]}\\nCols: {df.shape[1]}\")\n",
        "for column in df.columns:\n",
        "  print(column, df[column].dtype)\n",
        "\n",
        "df.isna().any(axis=0)"
      ],
      "metadata": {
        "id": "FF27dmV_ynWM",
        "colab": {
          "base_uri": "https://localhost:8080/"
        },
        "outputId": "34f77873-9820-404c-eda9-ebc482d94619"
      },
      "execution_count": 157,
      "outputs": [
        {
          "output_type": "stream",
          "name": "stdout",
          "text": [
            "Rows: 45\n",
            "Cols: 8\n",
            "orderdate object\n",
            "region object\n",
            "manager object\n",
            "salesman object\n",
            "item object\n",
            "units float64\n",
            "unit_price float64\n",
            "sale_amt float64\n"
          ]
        },
        {
          "output_type": "execute_result",
          "data": {
            "text/plain": [
              "orderdate      True\n",
              "region         True\n",
              "manager        True\n",
              "salesman       True\n",
              "item           True\n",
              "units         False\n",
              "unit_price    False\n",
              "sale_amt      False\n",
              "dtype: bool"
            ]
          },
          "metadata": {},
          "execution_count": 157
        }
      ]
    },
    {
      "cell_type": "markdown",
      "source": [
        "# Завдання 2\n",
        "\n",
        "Перейменуйте стовпчики так, щоб назви містили літери нижнього регістру"
      ],
      "metadata": {
        "id": "GtiSCylwuhgl"
      }
    },
    {
      "cell_type": "code",
      "source": [
        "df.columns = df.columns.str.lower()\n",
        "df.columns"
      ],
      "metadata": {
        "id": "EWZj1Pltu2la",
        "colab": {
          "base_uri": "https://localhost:8080/"
        },
        "outputId": "e70d137f-352b-4d8f-e897-9b0630d09021"
      },
      "execution_count": 143,
      "outputs": [
        {
          "output_type": "execute_result",
          "data": {
            "text/plain": [
              "Index(['orderdate', 'region', 'manager', 'salesman', 'item', 'units',\n",
              "       'unit_price', 'sale_amt'],\n",
              "      dtype='object')"
            ]
          },
          "metadata": {},
          "execution_count": 143
        }
      ]
    },
    {
      "cell_type": "markdown",
      "source": [
        "# Завдання 3\n",
        "Виведіть дані про купівлі телевізорів та телефонів"
      ],
      "metadata": {
        "id": "4opZJS6YtxzK"
      }
    },
    {
      "cell_type": "code",
      "source": [
        "df[(df[\"item\"] == \"Television\") | (df[\"item\"] == \"Cell Phone\")][\"sale_amt\"]"
      ],
      "metadata": {
        "id": "cUenrZqdugpM",
        "colab": {
          "base_uri": "https://localhost:8080/"
        },
        "outputId": "d403d37f-d908-40a6-e627-21ddc01f82d1"
      },
      "execution_count": 144,
      "outputs": [
        {
          "output_type": "execute_result",
          "data": {
            "text/plain": [
              "0     113810.0\n",
              "2      43128.0\n",
              "3       6075.0\n",
              "4      67088.0\n",
              "6      89850.0\n",
              "7     107820.0\n",
              "8      38336.0\n",
              "10    107820.0\n",
              "13     41930.0\n",
              "17     14400.0\n",
              "18      3375.0\n",
              "20     80266.0\n",
              "27     79068.0\n",
              "28     21600.0\n",
              "29     63494.0\n",
              "36      8386.0\n",
              "37     17100.0\n",
              "39     16772.0\n",
              "Name: sale_amt, dtype: float64"
            ]
          },
          "metadata": {},
          "execution_count": 144
        }
      ]
    },
    {
      "cell_type": "markdown",
      "source": [
        "# Завдання 4\n",
        "Яка загальна виручка у продавця Luis?"
      ],
      "metadata": {
        "id": "Xj6KjrIvy88t"
      }
    },
    {
      "cell_type": "code",
      "source": [
        "df[df[\"salesman\"] == \"Luis\"][\"sale_amt\"].sum()"
      ],
      "metadata": {
        "id": "v61fgvNGOimR",
        "colab": {
          "base_uri": "https://localhost:8080/"
        },
        "outputId": "cbf78d4d-6fae-4e62-a0fb-f7a8655e1a4d"
      },
      "execution_count": 145,
      "outputs": [
        {
          "output_type": "execute_result",
          "data": {
            "text/plain": [
              "206373.0"
            ]
          },
          "metadata": {},
          "execution_count": 145
        }
      ]
    },
    {
      "cell_type": "markdown",
      "source": [
        "# Завдання 5\n",
        "\n",
        "Скільки і якого товару було продано?\n",
        "\n",
        "див groupby(),"
      ],
      "metadata": {
        "id": "EC6FWEv-u1gT"
      }
    },
    {
      "cell_type": "code",
      "source": [
        "df.groupby(\"item\")[\"units\"].sum()\n",
        "\n"
      ],
      "metadata": {
        "id": "4-MlEzEDzLg7",
        "colab": {
          "base_uri": "https://localhost:8080/"
        },
        "outputId": "297a96e6-3092-4958-f16c-c7c287e07349"
      },
      "execution_count": 146,
      "outputs": [
        {
          "output_type": "execute_result",
          "data": {
            "text/plain": [
              "item\n",
              "Cell Phone      278.0\n",
              "Desk             10.0\n",
              "Home Theater    722.0\n",
              "Television      716.0\n",
              "Video Games     395.0\n",
              "Name: units, dtype: float64"
            ]
          },
          "metadata": {},
          "execution_count": 146
        }
      ]
    },
    {
      "cell_type": "markdown",
      "source": [
        "# Завдання 6\n",
        "Перевірте чи правильно розраховано загальну вартість покупки. Виведіть ті рядки де є помилка. Виправте дані в таблиці"
      ],
      "metadata": {
        "id": "E_yqxKNXxF2u"
      }
    },
    {
      "cell_type": "code",
      "source": [
        "print(df[(df[\"units\"] * df[\"unit_price\"] != df[\"sale_amt\"])])\n",
        "df[\"sale_amt\"] = df[\"units\"] * df[\"unit_price\"]\n",
        "print(df[(df[\"units\"] * df[\"unit_price\"] != df[\"sale_amt\"])])"
      ],
      "metadata": {
        "id": "KFDqxG1yx5dS",
        "colab": {
          "base_uri": "https://localhost:8080/"
        },
        "outputId": "57178396-2236-4ad4-b049-df7bf4d93038"
      },
      "execution_count": 147,
      "outputs": [
        {
          "output_type": "stream",
          "name": "stdout",
          "text": [
            "   orderdate region manager salesman item   units  unit_price  sale_amt\n",
            "43       NaN    NaN     NaN      NaN  NaN  278.00    1125.000  62550.00\n",
            "44       NaN    NaN     NaN      NaN  NaN   34.75     140.625   7818.75\n",
            "Empty DataFrame\n",
            "Columns: [orderdate, region, manager, salesman, item, units, unit_price, sale_amt]\n",
            "Index: []\n"
          ]
        }
      ]
    }
  ]
}